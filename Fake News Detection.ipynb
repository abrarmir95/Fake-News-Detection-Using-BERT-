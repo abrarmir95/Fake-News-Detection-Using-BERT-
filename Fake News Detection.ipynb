{
 "cells": [
  {
   "cell_type": "code",
   "execution_count": null,
   "id": "b1ad2533-6732-4d73-95d9-0ae150dd1115",
   "metadata": {},
   "outputs": [],
   "source": [
    " # handling warnings and not displaying 'em\n",
    "import warnings\n",
    "warnings.filterwarnings('ignore')"
   ]
  },
  {
   "cell_type": "code",
   "execution_count": null,
   "id": "76ad7893-bb72-4674-863a-680174847f8d",
   "metadata": {},
   "outputs": [],
   "source": [
    "# installing python software packages\n",
    "!pip install sentence_transformers\n",
    "!pip install scikit-plot"
   ]
  },
  {
   "cell_type": "code",
   "execution_count": null,
   "id": "e599d862-0025-4ca3-b2a7-78ba71d24464",
   "metadata": {},
   "outputs": [],
   "source": [
    "# importing several important and useful libraries\n",
    "import numpy as np\n",
    "import pandas as pd\n",
    "import sentence_transformers\n",
    "from sklearn.metrics import classification_report\n",
    "from sklearn.metrics import confusion_matrix\n",
    "from sklearn.model_selection import train_test_split\n",
    "import scikitplot.plotters as skplt\n",
    "import matplotlib.pyplot as plt\n",
    "from sklearn.preprocessing import LabelEncoder\n",
    "from sklearn.utils import shuffle\n",
    "from sklearn.svm import SVC\n",
    "import re\n",
    "import string"
   ]
  },
  {
   "cell_type": "code",
   "execution_count": null,
   "id": "38d3f8d3-54fa-4f78-bb2a-ee7cb9570108",
   "metadata": {},
   "outputs": [],
   "source": [
    "df=pd.read_csv('fake_news.csv')"
   ]
  },
  {
   "cell_type": "code",
   "execution_count": null,
   "id": "fdae7abd-7fae-442c-99e5-492a5a8f79f7",
   "metadata": {},
   "outputs": [],
   "source": [
    "df.head()"
   ]
  },
  {
   "cell_type": "code",
   "execution_count": null,
   "id": "f9e71fa8-23c6-408f-918d-9eccc64b0c53",
   "metadata": {},
   "outputs": [],
   "source": [
    "df=df.drop(columns=['URLs', 'Headline'],axis=1)"
   ]
  },
  {
   "cell_type": "code",
   "execution_count": null,
   "id": "beac6599-ad16-4c18-8941-0c95194aa62f",
   "metadata": {},
   "outputs": [],
   "source": [
    "df.head()"
   ]
  },
  {
   "cell_type": "code",
   "execution_count": null,
   "id": "54b38de6-2995-45f7-82e2-5b22792b0bce",
   "metadata": {},
   "outputs": [],
   "source": [
    "df['Label']=df['Label'].replace({1:'Truthful', 0:'Fake'})"
   ]
  },
  {
   "cell_type": "code",
   "execution_count": null,
   "id": "cd3bd159-1bdd-4256-9c0c-6348a80a3234",
   "metadata": {},
   "outputs": [],
   "source": [
    "df.head()"
   ]
  },
  {
   "cell_type": "code",
   "execution_count": null,
   "id": "de42add7-690e-462c-857e-b98d98841838",
   "metadata": {},
   "outputs": [],
   "source": [
    "df.tail()"
   ]
  },
  {
   "cell_type": "code",
   "execution_count": null,
   "id": "d627ae56-9b1c-4a30-bf09-43864ccfc5aa",
   "metadata": {},
   "outputs": [],
   "source": [
    "df.shape"
   ]
  },
  {
   "cell_type": "code",
   "execution_count": null,
   "id": "725d0b5e-5ccd-4096-90e6-c0f62cf3647a",
   "metadata": {},
   "outputs": [],
   "source": [
    "df.isna().sum()"
   ]
  },
  {
   "cell_type": "code",
   "execution_count": null,
   "id": "147450c9-af24-4815-b1e8-353075f6f3d7",
   "metadata": {},
   "outputs": [],
   "source": [
    "df.dropna(inplace=True)"
   ]
  },
  {
   "cell_type": "code",
   "execution_count": null,
   "id": "831fba0c-5e8e-45e2-be43-8b5434b5a82b",
   "metadata": {},
   "outputs": [],
   "source": [
    "df.isna().sum()"
   ]
  },
  {
   "cell_type": "code",
   "execution_count": null,
   "id": "8fa4b721-aa97-49be-a682-f91151396de3",
   "metadata": {},
   "outputs": [],
   "source": [
    "df.shape"
   ]
  },
  {
   "cell_type": "code",
   "execution_count": null,
   "id": "ac315f0d-a5a1-4209-bf7a-ee33d50acfca",
   "metadata": {},
   "outputs": [],
   "source": [
    "df['Label'].value_counts()"
   ]
  },
  {
   "cell_type": "code",
   "execution_count": null,
   "id": "5d618202-72b9-4794-be88-77476743a50b",
   "metadata": {},
   "outputs": [],
   "source": [
    "# spliting as train/ test data\n",
    "split = int(df.shape[0] * 0.8)\n",
    "df_train = df.iloc[:split, :].reset_index(drop=True)\n",
    "df_test = df.iloc[split:, :].reset_index(drop=True)"
   ]
  },
  {
   "cell_type": "code",
   "execution_count": null,
   "id": "665de265-50d7-48b2-a161-11ff8e4eb54d",
   "metadata": {},
   "outputs": [],
   "source": [
    "# train/ test examples count in that order\n",
    "print(df_train.shape, df_test.shape)"
   ]
  },
  {
   "cell_type": "code",
   "execution_count": null,
   "id": "166e9ed7-0042-438b-90a3-e4fea03e2f89",
   "metadata": {},
   "outputs": [],
   "source": [
    "# loading the BERT model\n",
    "bert_model = sentence_transformers.SentenceTransformer('bert-base-nli-mean-tokens')"
   ]
  },
  {
   "cell_type": "code",
   "execution_count": null,
   "id": "3975d68a-b401-4372-8155-223fd967a42f",
   "metadata": {},
   "outputs": [],
   "source": [
    "# generatings word embeddings for training data\n",
    "train_comment_embeddings = bert_model.encode(df_train['Body'])\n",
    "# writing embeddings file given location\n",
    "np.save(r'C:\\Users\\DELL\\Desktop\\Data Science All\\xtrnF.npy',train_comment_embeddings)"
   ]
  },
  {
   "cell_type": "code",
   "execution_count": null,
   "id": "1acb9efe-d93d-4e9d-ae2a-c32631c05022",
   "metadata": {},
   "outputs": [],
   "source": [
    "# generating word embeddings for test data and storing the file to given location\n",
    "test_comment_embeddings = bert_model.encode(df_test['Body'])\n",
    "np.save(r'C:\\Users\\DELL\\Desktop\\Data Science All\\xtstF.npy',test_comment_embeddings)"
   ]
  },
  {
   "cell_type": "code",
   "execution_count": null,
   "id": "f7e45985-ded0-40f8-ad6e-e284d950f507",
   "metadata": {},
   "outputs": [],
   "source": [
    "# generating and storing the embeddings for corresponding train/ test labels\n",
    "np.save(r'C:\\Users\\DELL\\Desktop\\Data Science All\\ytrnF.npy',np.array(df_train['Label']))\n",
    "np.save(r'C:\\Users\\DELL\\Desktop\\Data Science All\\ytstF.npy',np.array(df_test['Label']))"
   ]
  },
  {
   "cell_type": "code",
   "execution_count": null,
   "id": "47a21b0c-592a-4060-8980-13930a0800c9",
   "metadata": {},
   "outputs": [],
   "source": [
    "# defining confusion matrix : prediction against test labels \n",
    "def plot_cmat(ytstH, ypred):\n",
    "    '''Plotting confusion matrix'''\n",
    "    skplt.plot_confusion_matrix(ytstH,ypred)\n",
    "    plt.show()"
   ]
  },
  {
   "cell_type": "code",
   "execution_count": null,
   "id": "effc313d-59b1-46cf-baff-18e03b3a5f00",
   "metadata": {},
   "outputs": [],
   "source": [
    "# loading train/ test text embeddings in these variables\n",
    "xtrain=np.load(r'C:\\Users\\DELL\\Desktop\\Data Science All\\xtrnF.npy')\n",
    "xtest=np.load(r'C:\\Users\\DELL\\Desktop\\Data Science All\\xtstF.npy')"
   ]
  },
  {
   "cell_type": "code",
   "execution_count": null,
   "id": "0aca055d-5e39-4feb-aecb-2019c2f1ca4d",
   "metadata": {},
   "outputs": [],
   "source": [
    "# loading train/ test labels' embeddings in these variables\n",
    "ytest=np.load(r'C:\\Users\\DELL\\Desktop\\Data Science All\\ytstF.npy',allow_pickle=True)\n",
    "ytrain=np.load(r'C:\\Users\\DELL\\Desktop\\Data Science All\\ytrnF.npy',allow_pickle=True)"
   ]
  },
  {
   "cell_type": "code",
   "execution_count": null,
   "id": "ea6ae943-b9a3-4aa6-b98a-551057937fa0",
   "metadata": {},
   "outputs": [],
   "source": [
    "import pickle"
   ]
  },
  {
   "cell_type": "code",
   "execution_count": 1,
   "id": "eee4d28f-f8d2-448b-a7f2-708a65167289",
   "metadata": {},
   "outputs": [
    {
     "ename": "NameError",
     "evalue": "name 'xtrain' is not defined",
     "output_type": "error",
     "traceback": [
      "\u001b[1;31m---------------------------------------------------------------------------\u001b[0m",
      "\u001b[1;31mNameError\u001b[0m                                 Traceback (most recent call last)",
      "Cell \u001b[1;32mIn[1], line 4\u001b[0m\n\u001b[0;32m      2\u001b[0m \u001b[38;5;28;01mfrom\u001b[39;00m \u001b[38;5;21;01msklearn\u001b[39;00m\u001b[38;5;21;01m.\u001b[39;00m\u001b[38;5;21;01msvm\u001b[39;00m \u001b[38;5;28;01mimport\u001b[39;00m SVC\n\u001b[0;32m      3\u001b[0m svclassifier \u001b[38;5;241m=\u001b[39m SVC(kernel\u001b[38;5;241m=\u001b[39m\u001b[38;5;124m'\u001b[39m\u001b[38;5;124mlinear\u001b[39m\u001b[38;5;124m'\u001b[39m)\n\u001b[1;32m----> 4\u001b[0m svclassifier\u001b[38;5;241m.\u001b[39mfit(xtrain, ytrain)\n\u001b[0;32m      5\u001b[0m y_pred \u001b[38;5;241m=\u001b[39m svclassifier\u001b[38;5;241m.\u001b[39mpredict(xtest)\n\u001b[0;32m      7\u001b[0m a\u001b[38;5;241m=\u001b[39mytest\u001b[38;5;241m.\u001b[39mshape[\u001b[38;5;241m0\u001b[39m]\n",
      "\u001b[1;31mNameError\u001b[0m: name 'xtrain' is not defined"
     ]
    }
   ],
   "source": [
    "#Applying SVM a machine learning model\n",
    "from sklearn.svm import SVC\n",
    "svclassifier = SVC(kernel='linear')\n",
    "svclassifier.fit(xtrain, ytrain)\n",
    "y_pred = svclassifier.predict(xtest)\n",
    "\n",
    "a=ytest.shape[0]\n",
    "b=(ytest!=y_pred).sum()\n",
    "\n",
    "print(\"Accuracy =\"+format((a-b)/a*100,'2f')+\"%\")\n",
    "print(classification_report(ytest, y_pred))\n",
    "plot_cmat(ytest, y_pred)"
   ]
  },
  {
   "cell_type": "code",
   "execution_count": null,
   "id": "73a1f051-37e4-476a-b621-802cdff81078",
   "metadata": {},
   "outputs": [],
   "source": []
  }
 ],
 "metadata": {
  "kernelspec": {
   "display_name": "Python 3 (ipykernel)",
   "language": "python",
   "name": "python3"
  },
  "language_info": {
   "codemirror_mode": {
    "name": "ipython",
    "version": 3
   },
   "file_extension": ".py",
   "mimetype": "text/x-python",
   "name": "python",
   "nbconvert_exporter": "python",
   "pygments_lexer": "ipython3",
   "version": "3.11.7"
  }
 },
 "nbformat": 4,
 "nbformat_minor": 5
}
